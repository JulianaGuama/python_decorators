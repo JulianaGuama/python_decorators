{
  "nbformat": 4,
  "nbformat_minor": 0,
  "metadata": {
    "colab": {
      "name": "class_and_static_methods.ipynb",
      "provenance": []
    },
    "kernelspec": {
      "name": "python3",
      "display_name": "Python 3"
    }
  },
  "cells": [
    {
      "cell_type": "markdown",
      "metadata": {
        "id": "gF4JlgAChewe"
      },
      "source": [
        "# Default decorators\r\n",
        "\r\n",
        "Direct from [PEP 318](https://www.python.org/dev/peps/pep-0318/#why-is-this-so-hard) cause is a fun text:\r\n",
        "\r\n",
        "\"Two decorators (classmethod() and staticmethod()) have been available in Python since version 2.2. It's been assumed since approximately that time that some syntactic support for them would eventually be added to the language. Given this assumption, one might wonder why it's been so difficult to arrive at a consensus. Discussions have raged off-and-on at times in both comp.lang.python and the python-dev mailing list about how best to implement function decorators. There is no one clear reason why this should be so, but a few problems seem to be most divisive.\"\r\n",
        "(2020-12-21)"
      ]
    },
    {
      "cell_type": "markdown",
      "metadata": {
        "id": "rhvCHY0pka-0"
      },
      "source": [
        "# classmethod\r\n",
        "\r\n",
        "Naturaly in Python every method is related to the object.\r\n",
        "\r\n",
        "In Object Orientation, we learn that sometimes the method can be connected to the class too. Therefore `classmethod` was created and inserted in Python 2.2."
      ]
    },
    {
      "cell_type": "code",
      "metadata": {
        "id": "MIS0jyA6kaYh"
      },
      "source": [
        "class Example:\r\n",
        "  att = \"class att\"\r\n",
        "\r\n",
        "  def __init__(self):\r\n",
        "    self.att = \"obj att\"\r\n",
        "\r\n",
        "  def object_att(self):\r\n",
        "    return self.att\r\n",
        "  \r\n",
        "  @classmethod\r\n",
        "  def class_att(cls):\r\n",
        "    return cls.att"
      ],
      "execution_count": 2,
      "outputs": []
    },
    {
      "cell_type": "code",
      "metadata": {
        "colab": {
          "base_uri": "https://localhost:8080/",
          "height": 35
        },
        "id": "-s-ugpKZhdjR",
        "outputId": "db0c3a13-b0b9-487a-e61b-83ecbf13ca39"
      },
      "source": [
        "Example.class_att()"
      ],
      "execution_count": 5,
      "outputs": [
        {
          "output_type": "execute_result",
          "data": {
            "application/vnd.google.colaboratory.intrinsic+json": {
              "type": "string"
            },
            "text/plain": [
              "'class att'"
            ]
          },
          "metadata": {
            "tags": []
          },
          "execution_count": 5
        }
      ]
    },
    {
      "cell_type": "code",
      "metadata": {
        "colab": {
          "base_uri": "https://localhost:8080/",
          "height": 35
        },
        "id": "P0NEZhgKjw7Z",
        "outputId": "e135f953-64c2-42d7-8574-79d31864fb54"
      },
      "source": [
        "Example().object_att()"
      ],
      "execution_count": 4,
      "outputs": [
        {
          "output_type": "execute_result",
          "data": {
            "application/vnd.google.colaboratory.intrinsic+json": {
              "type": "string"
            },
            "text/plain": [
              "'obj att'"
            ]
          },
          "metadata": {
            "tags": []
          },
          "execution_count": 4
        }
      ]
    },
    {
      "cell_type": "markdown",
      "metadata": {
        "id": "_YsZkmI-mxXx"
      },
      "source": [
        "# staticmethod\r\n",
        "\r\n",
        "Naturaly in Python every method is related to the object. (yeh... I already said so)\r\n",
        "\r\n",
        "In Object Orientation, we learn that sometimes the method can be disconnected to the class or to the object. Therefore staticmethod was created and inserted in Python 2.2."
      ]
    },
    {
      "cell_type": "code",
      "metadata": {
        "id": "MydVjksYnERj"
      },
      "source": [
        "class Example:\r\n",
        "  att = \"class att\"\r\n",
        "\r\n",
        "  def __init__(self):\r\n",
        "    self.att = \"obj att\"\r\n",
        "\r\n",
        "  def object_att(self):\r\n",
        "    return self.att\r\n",
        "  \r\n",
        "  @classmethod\r\n",
        "  def class_att(cls):\r\n",
        "    return cls.att\r\n",
        "  \r\n",
        "  @staticmethod\r\n",
        "  def static_method():\r\n",
        "    return \"Yolo\""
      ],
      "execution_count": 6,
      "outputs": []
    },
    {
      "cell_type": "code",
      "metadata": {
        "colab": {
          "base_uri": "https://localhost:8080/",
          "height": 35
        },
        "id": "1xPj3TR1nLMm",
        "outputId": "2df8edba-a7c0-4390-c395-5b1d8826816f"
      },
      "source": [
        "Example.static_method()"
      ],
      "execution_count": 7,
      "outputs": [
        {
          "output_type": "execute_result",
          "data": {
            "application/vnd.google.colaboratory.intrinsic+json": {
              "type": "string"
            },
            "text/plain": [
              "'Yolo'"
            ]
          },
          "metadata": {
            "tags": []
          },
          "execution_count": 7
        }
      ]
    },
    {
      "cell_type": "code",
      "metadata": {
        "id": "uc4nmw3pnNsg"
      },
      "source": [
        "class Example:\r\n",
        "  att = \"class att\"\r\n",
        "\r\n",
        "  def __init__(self):\r\n",
        "    self.att = \"obj att\"\r\n",
        " \r\n",
        "  @staticmethod\r\n",
        "  def static1_method(self):\r\n",
        "    return self.att\r\n",
        "\r\n",
        "  @staticmethod\r\n",
        "  def static2_method(cls):\r\n",
        "    return cls.att"
      ],
      "execution_count": 8,
      "outputs": []
    },
    {
      "cell_type": "code",
      "metadata": {
        "colab": {
          "base_uri": "https://localhost:8080/",
          "height": 167
        },
        "id": "dRuljK7vnVRP",
        "outputId": "1b5d1cb2-60f2-4a92-81ca-468960e8659a"
      },
      "source": [
        "Example.static2_method()"
      ],
      "execution_count": 9,
      "outputs": [
        {
          "output_type": "error",
          "ename": "TypeError",
          "evalue": "ignored",
          "traceback": [
            "\u001b[0;31m---------------------------------------------------------------------------\u001b[0m",
            "\u001b[0;31mTypeError\u001b[0m                                 Traceback (most recent call last)",
            "\u001b[0;32m<ipython-input-9-686a46559986>\u001b[0m in \u001b[0;36m<module>\u001b[0;34m()\u001b[0m\n\u001b[0;32m----> 1\u001b[0;31m \u001b[0mExample\u001b[0m\u001b[0;34m.\u001b[0m\u001b[0mstatic2_method\u001b[0m\u001b[0;34m(\u001b[0m\u001b[0;34m)\u001b[0m\u001b[0;34m\u001b[0m\u001b[0;34m\u001b[0m\u001b[0m\n\u001b[0m",
            "\u001b[0;31mTypeError\u001b[0m: static2_method() missing 1 required positional argument: 'cls'"
          ]
        }
      ]
    },
    {
      "cell_type": "code",
      "metadata": {
        "colab": {
          "base_uri": "https://localhost:8080/",
          "height": 167
        },
        "id": "VatDL0ntnZgc",
        "outputId": "56bbd0ee-1cfd-4638-8edb-e74a0b219405"
      },
      "source": [
        "Example().static1_method()"
      ],
      "execution_count": 10,
      "outputs": [
        {
          "output_type": "error",
          "ename": "TypeError",
          "evalue": "ignored",
          "traceback": [
            "\u001b[0;31m---------------------------------------------------------------------------\u001b[0m",
            "\u001b[0;31mTypeError\u001b[0m                                 Traceback (most recent call last)",
            "\u001b[0;32m<ipython-input-10-6f022e69a686>\u001b[0m in \u001b[0;36m<module>\u001b[0;34m()\u001b[0m\n\u001b[0;32m----> 1\u001b[0;31m \u001b[0mExample\u001b[0m\u001b[0;34m(\u001b[0m\u001b[0;34m)\u001b[0m\u001b[0;34m.\u001b[0m\u001b[0mstatic1_method\u001b[0m\u001b[0;34m(\u001b[0m\u001b[0;34m)\u001b[0m\u001b[0;34m\u001b[0m\u001b[0;34m\u001b[0m\u001b[0m\n\u001b[0m",
            "\u001b[0;31mTypeError\u001b[0m: static1_method() missing 1 required positional argument: 'self'"
          ]
        }
      ]
    },
    {
      "cell_type": "markdown",
      "metadata": {
        "id": "UtA1jfWzyvsF"
      },
      "source": [
        "# class and static method"
      ]
    },
    {
      "cell_type": "code",
      "metadata": {
        "id": "zkLAw-1Hyz_K"
      },
      "source": [
        "class Example:\r\n",
        "  att = \"class att\"\r\n",
        "\r\n",
        "  def __init__(self):\r\n",
        "    self.att = \"obj att\"\r\n",
        "  \r\n",
        "  def object_method(self):\r\n",
        "    return self.att\r\n",
        " \r\n",
        "  @classmethod\r\n",
        "  def class_method(cls):\r\n",
        "    return cls.att\r\n",
        "\r\n",
        "  @staticmethod\r\n",
        "  def static_method():\r\n",
        "    return \"Yolo\""
      ],
      "execution_count": 14,
      "outputs": []
    },
    {
      "cell_type": "code",
      "metadata": {
        "colab": {
          "base_uri": "https://localhost:8080/",
          "height": 35
        },
        "id": "7H5FSVNGy9EO",
        "outputId": "35ccd2ed-e981-4e22-e6b7-8c68add6ae68"
      },
      "source": [
        "Example().object_method()"
      ],
      "execution_count": 15,
      "outputs": [
        {
          "output_type": "execute_result",
          "data": {
            "application/vnd.google.colaboratory.intrinsic+json": {
              "type": "string"
            },
            "text/plain": [
              "'obj att'"
            ]
          },
          "metadata": {
            "tags": []
          },
          "execution_count": 15
        }
      ]
    },
    {
      "cell_type": "code",
      "metadata": {
        "colab": {
          "base_uri": "https://localhost:8080/",
          "height": 35
        },
        "id": "T13ANtS5zONh",
        "outputId": "b3daa28f-567b-4866-87cb-faf09b46591b"
      },
      "source": [
        "Example.class_method()"
      ],
      "execution_count": 16,
      "outputs": [
        {
          "output_type": "execute_result",
          "data": {
            "application/vnd.google.colaboratory.intrinsic+json": {
              "type": "string"
            },
            "text/plain": [
              "'class att'"
            ]
          },
          "metadata": {
            "tags": []
          },
          "execution_count": 16
        }
      ]
    },
    {
      "cell_type": "code",
      "metadata": {
        "colab": {
          "base_uri": "https://localhost:8080/",
          "height": 35
        },
        "id": "n5M3cqhHzAEN",
        "outputId": "2a70ffe4-a2e2-4189-fba2-b18973665dcc"
      },
      "source": [
        "Example.static_method()"
      ],
      "execution_count": 17,
      "outputs": [
        {
          "output_type": "execute_result",
          "data": {
            "application/vnd.google.colaboratory.intrinsic+json": {
              "type": "string"
            },
            "text/plain": [
              "'Yolo'"
            ]
          },
          "metadata": {
            "tags": []
          },
          "execution_count": 17
        }
      ]
    },
    {
      "cell_type": "code",
      "metadata": {
        "id": "7c-v47bZzVvs"
      },
      "source": [
        "class Example:\r\n",
        "  att = \"class att\"\r\n",
        "\r\n",
        "  def __init__(self):\r\n",
        "    self.att = \"obj att\"\r\n",
        "  \r\n",
        "  def object_method(self):\r\n",
        "    return self.att\r\n",
        " \r\n",
        "  def class_method(self):\r\n",
        "    return self.att\r\n",
        "\r\n",
        "  def static_method():\r\n",
        "    return \"Yolo\"\r\n",
        "  \r\n",
        "  class_method = classmethod(class_method)\r\n",
        "  static_method = staticmethod(static_method)"
      ],
      "execution_count": 18,
      "outputs": []
    },
    {
      "cell_type": "code",
      "metadata": {
        "colab": {
          "base_uri": "https://localhost:8080/",
          "height": 35
        },
        "id": "v6D5CI15zjAe",
        "outputId": "38c3831d-8668-423a-e86b-2856e73cb1be"
      },
      "source": [
        "Example().object_method()"
      ],
      "execution_count": 19,
      "outputs": [
        {
          "output_type": "execute_result",
          "data": {
            "application/vnd.google.colaboratory.intrinsic+json": {
              "type": "string"
            },
            "text/plain": [
              "'obj att'"
            ]
          },
          "metadata": {
            "tags": []
          },
          "execution_count": 19
        }
      ]
    },
    {
      "cell_type": "code",
      "metadata": {
        "colab": {
          "base_uri": "https://localhost:8080/",
          "height": 35
        },
        "id": "v3rUYHmwzj2p",
        "outputId": "7524de69-d340-47a3-f379-fdd08c7db287"
      },
      "source": [
        "Example.class_method()"
      ],
      "execution_count": 20,
      "outputs": [
        {
          "output_type": "execute_result",
          "data": {
            "application/vnd.google.colaboratory.intrinsic+json": {
              "type": "string"
            },
            "text/plain": [
              "'class att'"
            ]
          },
          "metadata": {
            "tags": []
          },
          "execution_count": 20
        }
      ]
    },
    {
      "cell_type": "code",
      "metadata": {
        "colab": {
          "base_uri": "https://localhost:8080/",
          "height": 35
        },
        "id": "Zy9E2jfDzktO",
        "outputId": "20e99de1-e3e2-48cd-c5d8-6ae21ad1859e"
      },
      "source": [
        "Example.static_method()"
      ],
      "execution_count": 21,
      "outputs": [
        {
          "output_type": "execute_result",
          "data": {
            "application/vnd.google.colaboratory.intrinsic+json": {
              "type": "string"
            },
            "text/plain": [
              "'Yolo'"
            ]
          },
          "metadata": {
            "tags": []
          },
          "execution_count": 21
        }
      ]
    },
    {
      "cell_type": "markdown",
      "metadata": {
        "id": "93P8QToazSCt"
      },
      "source": [
        "Using built in methods:"
      ]
    }
  ]
}