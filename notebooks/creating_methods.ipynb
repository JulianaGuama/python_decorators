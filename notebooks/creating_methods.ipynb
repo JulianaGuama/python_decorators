{
  "nbformat": 4,
  "nbformat_minor": 0,
  "metadata": {
    "colab": {
      "name": "creating_methods.ipynb",
      "provenance": []
    },
    "kernelspec": {
      "name": "python3",
      "display_name": "Python 3"
    }
  },
  "cells": [
    {
      "cell_type": "markdown",
      "metadata": {
        "id": "qV84pryGXYlX"
      },
      "source": [
        "# Creating decorators\r\n",
        "\r\n",
        "First things first, we saw that we can create variables that are functions."
      ]
    },
    {
      "cell_type": "code",
      "metadata": {
        "id": "gJQni13DynPs"
      },
      "source": [
        "def yolo():\r\n",
        "  print(\"YOLO\")\r\n",
        "\r\n",
        "a = yolo"
      ],
      "execution_count": 3,
      "outputs": []
    },
    {
      "cell_type": "code",
      "metadata": {
        "colab": {
          "base_uri": "https://localhost:8080/"
        },
        "id": "80B4K6QwX9KU",
        "outputId": "fd881eb9-b9e4-404e-b216-9df97c62b810"
      },
      "source": [
        "a()"
      ],
      "execution_count": 4,
      "outputs": [
        {
          "output_type": "stream",
          "text": [
            "YOLO\n"
          ],
          "name": "stdout"
        }
      ]
    },
    {
      "cell_type": "code",
      "metadata": {
        "id": "zRomQUJUcMHW"
      },
      "source": [
        "def yolo():\r\n",
        "  print(\"YOLO\")\r\n",
        "\r\n",
        "def wololo(func):\r\n",
        "  def wrapper():\r\n",
        "    print(\"WOLOLO\")\r\n",
        "    func()\r\n",
        "  return wrapper\r\n",
        "\r\n",
        "a = wololo(yolo)"
      ],
      "execution_count": 15,
      "outputs": []
    },
    {
      "cell_type": "code",
      "metadata": {
        "colab": {
          "base_uri": "https://localhost:8080/"
        },
        "id": "JR1bzCWTcSzD",
        "outputId": "e3561df8-39fd-4340-a65f-ceb43797ae8e"
      },
      "source": [
        "a()"
      ],
      "execution_count": 16,
      "outputs": [
        {
          "output_type": "stream",
          "text": [
            "WOLOLO\n",
            "YOLO\n"
          ],
          "name": "stdout"
        }
      ]
    },
    {
      "cell_type": "markdown",
      "metadata": {
        "id": "_Sg9d5BHdkdz"
      },
      "source": [
        "Then, who re-create them as decorators?"
      ]
    },
    {
      "cell_type": "code",
      "metadata": {
        "colab": {
          "base_uri": "https://localhost:8080/"
        },
        "id": "D-DHL4o5dj0u",
        "outputId": "2b951bc7-a8ed-45d8-e500-b8e5f9f12caa"
      },
      "source": [
        "def wololo(func):\r\n",
        "  def wrapper():\r\n",
        "    print(\"WOLOLO\")\r\n",
        "    func()\r\n",
        "  return wrapper\r\n",
        "\r\n",
        "@wololo\r\n",
        "def yolo():\r\n",
        "  print(\"YOLO\")\r\n",
        "\r\n",
        "\r\n",
        "# execute\r\n",
        "yolo()"
      ],
      "execution_count": 18,
      "outputs": [
        {
          "output_type": "stream",
          "text": [
            "WOLOLO\n",
            "YOLO\n"
          ],
          "name": "stdout"
        }
      ]
    },
    {
      "cell_type": "markdown",
      "metadata": {
        "id": "wZPJw0lQeAmB"
      },
      "source": [
        "# Decorators with arguments"
      ]
    },
    {
      "cell_type": "code",
      "metadata": {
        "id": "dsrQEqV0ghFl"
      },
      "source": [
        "import typing as tp\r\n",
        "\r\n",
        "def my_decorator(func: tp.Callable):\r\n",
        "  def wrapper():\r\n",
        "    print(\"Wololo\")\r\n",
        "    func()\r\n",
        "  return wrapper\r\n",
        "\r\n",
        "@my_decorator\r\n",
        "def foo(name: str):\r\n",
        "  print(f\"My name is {name}\")\r\n",
        "\r\n",
        "# execute\r\n",
        "foo(name=\"Yolo\")"
      ],
      "execution_count": null,
      "outputs": []
    },
    {
      "cell_type": "code",
      "metadata": {
        "colab": {
          "base_uri": "https://localhost:8080/"
        },
        "id": "HLyxHqhCeCqS",
        "outputId": "fe8f492d-e7c1-4ca7-acdc-a2e0c406c6bf"
      },
      "source": [
        "import typing as tp\r\n",
        "\r\n",
        "def my_decorator(func: tp.Callable):\r\n",
        "  def wrapper(**kwargs):\r\n",
        "    print(\"Wololo\")\r\n",
        "    func(**kwargs)\r\n",
        "  return wrapper\r\n",
        "\r\n",
        "@my_decorator\r\n",
        "def foo(name: str):\r\n",
        "  print(f\"My name is {name}\")\r\n",
        "\r\n",
        "# execute\r\n",
        "foo(name=\"Yolo\")"
      ],
      "execution_count": 30,
      "outputs": [
        {
          "output_type": "stream",
          "text": [
            "Wololo\n",
            "My name is Yolo\n"
          ],
          "name": "stdout"
        }
      ]
    },
    {
      "cell_type": "code",
      "metadata": {
        "colab": {
          "base_uri": "https://localhost:8080/"
        },
        "id": "sM44EOXLmGFw",
        "outputId": "555ae356-16b2-46f2-ed5b-28d57cfdfa2f"
      },
      "source": [
        "import typing as tp\r\n",
        "\r\n",
        "def my_decorator(func: tp.Callable):\r\n",
        "  def wrapper(*args, **kwargs):\r\n",
        "    \"\"\"this is wrapper doc\"\"\"\r\n",
        "    print(\"Wololo\")\r\n",
        "    func(*args, **kwargs)\r\n",
        "  return wrapper\r\n",
        "\r\n",
        "@my_decorator\r\n",
        "def foo(name: str):\r\n",
        "  \"\"\"this is foo doc\"\"\"\r\n",
        "  print(f\"My name is {name}\")\r\n",
        "\r\n",
        "# execute\r\n",
        "foo(name=\"Yolo\")"
      ],
      "execution_count": 39,
      "outputs": [
        {
          "output_type": "stream",
          "text": [
            "Wololo\n",
            "My name is Yolo\n"
          ],
          "name": "stdout"
        }
      ]
    },
    {
      "cell_type": "markdown",
      "metadata": {
        "id": "78dd0u5Umibs"
      },
      "source": [
        "# Documenting and adjust the decorator"
      ]
    },
    {
      "cell_type": "code",
      "metadata": {
        "colab": {
          "base_uri": "https://localhost:8080/",
          "height": 35
        },
        "id": "KqS-X62mmp20",
        "outputId": "481ee397-50d8-459a-f551-4149a36d9265"
      },
      "source": [
        "print.__name__"
      ],
      "execution_count": 31,
      "outputs": [
        {
          "output_type": "execute_result",
          "data": {
            "application/vnd.google.colaboratory.intrinsic+json": {
              "type": "string"
            },
            "text/plain": [
              "'print'"
            ]
          },
          "metadata": {
            "tags": []
          },
          "execution_count": 31
        }
      ]
    },
    {
      "cell_type": "code",
      "metadata": {
        "colab": {
          "base_uri": "https://localhost:8080/",
          "height": 35
        },
        "id": "E6Ow7wQXmtHK",
        "outputId": "3d29e6f3-03b8-4a5b-b0c0-b17e44036562"
      },
      "source": [
        "def yolo():\r\n",
        "  print(\"yolo\")\r\n",
        "\r\n",
        "yolo.__name__"
      ],
      "execution_count": 32,
      "outputs": [
        {
          "output_type": "execute_result",
          "data": {
            "application/vnd.google.colaboratory.intrinsic+json": {
              "type": "string"
            },
            "text/plain": [
              "'yolo'"
            ]
          },
          "metadata": {
            "tags": []
          },
          "execution_count": 32
        }
      ]
    },
    {
      "cell_type": "code",
      "metadata": {
        "colab": {
          "base_uri": "https://localhost:8080/",
          "height": 35
        },
        "id": "APbreya7myx6",
        "outputId": "33c0ad29-8979-4b32-b169-ecd8ce92ee96"
      },
      "source": [
        "foo.__name__"
      ],
      "execution_count": 33,
      "outputs": [
        {
          "output_type": "execute_result",
          "data": {
            "application/vnd.google.colaboratory.intrinsic+json": {
              "type": "string"
            },
            "text/plain": [
              "'wrapper'"
            ]
          },
          "metadata": {
            "tags": []
          },
          "execution_count": 33
        }
      ]
    },
    {
      "cell_type": "code",
      "metadata": {
        "colab": {
          "base_uri": "https://localhost:8080/",
          "height": 35
        },
        "id": "aSzsYfk6n109",
        "outputId": "556b266d-1c6e-4f24-895b-8f1f8a0970a8"
      },
      "source": [
        "foo.__doc__"
      ],
      "execution_count": 40,
      "outputs": [
        {
          "output_type": "execute_result",
          "data": {
            "application/vnd.google.colaboratory.intrinsic+json": {
              "type": "string"
            },
            "text/plain": [
              "'this is wrapper doc'"
            ]
          },
          "metadata": {
            "tags": []
          },
          "execution_count": 40
        }
      ]
    },
    {
      "cell_type": "markdown",
      "metadata": {
        "id": "Bk33h2BEnOJK"
      },
      "source": [
        "Fixing `foo` identification."
      ]
    },
    {
      "cell_type": "code",
      "metadata": {
        "colab": {
          "base_uri": "https://localhost:8080/"
        },
        "id": "YbKGvp-YnRYs",
        "outputId": "633493d7-5430-4d1c-ee23-cc372d7db2a6"
      },
      "source": [
        "import typing as tp\r\n",
        "import functools\r\n",
        "\r\n",
        "def my_decorator(func: tp.Callable):\r\n",
        "  @functools.wraps(func)\r\n",
        "  def wrapper(*args, **kwargs):\r\n",
        "    \"\"\"this is wrapper doc\"\"\"\r\n",
        "    print(\"Wololo\")\r\n",
        "    func(*args, **kwargs)\r\n",
        "  return wrapper\r\n",
        "\r\n",
        "@my_decorator\r\n",
        "def foo(name: str):\r\n",
        "  \"\"\"this is foo doc\"\"\"\r\n",
        "  print(f\"My name is {name}\")\r\n",
        "\r\n",
        "# execute\r\n",
        "foo(name=\"Yolo\\n\")"
      ],
      "execution_count": 42,
      "outputs": [
        {
          "output_type": "stream",
          "text": [
            "Wololo\n",
            "My name is Yolo\n",
            "\n"
          ],
          "name": "stdout"
        }
      ]
    },
    {
      "cell_type": "code",
      "metadata": {
        "colab": {
          "base_uri": "https://localhost:8080/",
          "height": 35
        },
        "id": "JupuXcYln81x",
        "outputId": "44e02249-a9d9-4557-edd2-aab49afe8908"
      },
      "source": [
        "foo.__name__"
      ],
      "execution_count": 43,
      "outputs": [
        {
          "output_type": "execute_result",
          "data": {
            "application/vnd.google.colaboratory.intrinsic+json": {
              "type": "string"
            },
            "text/plain": [
              "'foo'"
            ]
          },
          "metadata": {
            "tags": []
          },
          "execution_count": 43
        }
      ]
    },
    {
      "cell_type": "code",
      "metadata": {
        "colab": {
          "base_uri": "https://localhost:8080/",
          "height": 35
        },
        "id": "cOuzTQuSn-nK",
        "outputId": "d3a5fcd5-678f-4b12-e42b-94ac18471b3a"
      },
      "source": [
        "foo.__doc__"
      ],
      "execution_count": 44,
      "outputs": [
        {
          "output_type": "execute_result",
          "data": {
            "application/vnd.google.colaboratory.intrinsic+json": {
              "type": "string"
            },
            "text/plain": [
              "'this is foo doc'"
            ]
          },
          "metadata": {
            "tags": []
          },
          "execution_count": 44
        }
      ]
    },
    {
      "cell_type": "markdown",
      "metadata": {
        "id": "pirN_WhsoONX"
      },
      "source": [
        "# More than once decorator per function\r\n",
        "\r\n",
        "In [PEP 318](https://www.python.org/dev/peps/pep-0318/#current-implementation-history) is show how to apply syntax for more than one decorator per function:\r\n",
        "\r\n",
        "```python\r\n",
        "@dec2\r\n",
        "@dec1\r\n",
        "def func(arg1, arg2, ...):\r\n",
        "    pass\r\n",
        "```"
      ]
    },
    {
      "cell_type": "code",
      "metadata": {
        "colab": {
          "base_uri": "https://localhost:8080/"
        },
        "id": "J0fCX2_soj77",
        "outputId": "50684edf-a396-4b4b-8d7a-4ffdcb7eb1fd"
      },
      "source": [
        "import typing as tp\r\n",
        "import functools\r\n",
        "\r\n",
        "def my_decorator(func: tp.Callable):\r\n",
        "  @functools.wraps(func)\r\n",
        "  def my_wrapper(*args, **kwargs):\r\n",
        "    \"\"\"this is wrapper doc\"\"\"\r\n",
        "    print(\"my_wrapper\")\r\n",
        "    func(*args, **kwargs)\r\n",
        "  return my_wrapper\r\n",
        "\r\n",
        "\r\n",
        "def another_decorator(func: tp.Callable):\r\n",
        "  @functools.wraps(func)\r\n",
        "  def another_wrapper(*args, **kwargs):\r\n",
        "    \"\"\"this is wrapper doc\"\"\"\r\n",
        "    print(\"another_wrapper\")\r\n",
        "    func(*args, **kwargs)\r\n",
        "  return another_wrapper\r\n",
        "\r\n",
        "\r\n",
        "# apply to function\r\n",
        "@another_decorator\r\n",
        "@my_decorator\r\n",
        "def foo(name: str):\r\n",
        "  \"\"\"this is foo doc\"\"\"\r\n",
        "  print(f\"My name is {name}\")\r\n",
        "\r\n",
        "# execute\r\n",
        "foo(name=\"Yolo\\n\")"
      ],
      "execution_count": 46,
      "outputs": [
        {
          "output_type": "stream",
          "text": [
            "another_wrapper\n",
            "my_wrapper\n",
            "My name is Yolo\n",
            "\n"
          ],
          "name": "stdout"
        }
      ]
    },
    {
      "cell_type": "code",
      "metadata": {
        "id": "4doWU8FFpKGe",
        "outputId": "bb42f34a-874f-4341-d905-3ba59a00c943",
        "colab": {
          "base_uri": "https://localhost:8080/",
          "height": 35
        }
      },
      "source": [
        "foo.__name__"
      ],
      "execution_count": 47,
      "outputs": [
        {
          "output_type": "execute_result",
          "data": {
            "application/vnd.google.colaboratory.intrinsic+json": {
              "type": "string"
            },
            "text/plain": [
              "'foo'"
            ]
          },
          "metadata": {
            "tags": []
          },
          "execution_count": 47
        }
      ]
    }
  ]
}