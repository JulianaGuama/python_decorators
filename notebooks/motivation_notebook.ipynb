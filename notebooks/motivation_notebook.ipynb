{
  "nbformat": 4,
  "nbformat_minor": 0,
  "metadata": {
    "colab": {
      "name": "Untitled3.ipynb",
      "provenance": []
    },
    "kernelspec": {
      "name": "python3",
      "display_name": "Python 3"
    }
  },
  "cells": [
    {
      "cell_type": "markdown",
      "metadata": {
        "id": "_ouGBVVFUy7y"
      },
      "source": [
        "# Changing the behavior of methods\r\n"
      ]
    },
    {
      "cell_type": "code",
      "metadata": {
        "id": "fEm21HMXXM-g",
        "colab": {
          "base_uri": "https://localhost:8080/"
        },
        "outputId": "c2986fd2-3677-45ad-9477-432311312e82"
      },
      "source": [
        "class Example:\r\n",
        "  att = \"YOLO\"\r\n",
        "  \r\n",
        "  def foo(self):\r\n",
        "      print(self.att)\r\n",
        "  foo = classmethod(foo)\r\n",
        "\r\n",
        "Example.foo()"
      ],
      "execution_count": 3,
      "outputs": [
        {
          "output_type": "stream",
          "text": [
            "YOLO\n"
          ],
          "name": "stdout"
        }
      ]
    },
    {
      "cell_type": "code",
      "metadata": {
        "colab": {
          "base_uri": "https://localhost:8080/",
          "height": 195
        },
        "id": "cehvcxLWM9Aw",
        "outputId": "153148e5-cc60-4395-e25a-81f6ba777ccc"
      },
      "source": [
        "class Example:\r\n",
        "  att = \"YOLO\"\r\n",
        "  \r\n",
        "  def foo(self):\r\n",
        "      print(self.att)\r\n",
        "\r\n",
        "Example.foo()"
      ],
      "execution_count": 5,
      "outputs": [
        {
          "output_type": "error",
          "ename": "TypeError",
          "evalue": "ignored",
          "traceback": [
            "\u001b[0;31m---------------------------------------------------------------------------\u001b[0m",
            "\u001b[0;31mTypeError\u001b[0m                                 Traceback (most recent call last)",
            "\u001b[0;32m<ipython-input-5-02d86d62408f>\u001b[0m in \u001b[0;36m<module>\u001b[0;34m()\u001b[0m\n\u001b[1;32m      4\u001b[0m       \u001b[0mprint\u001b[0m\u001b[0;34m(\u001b[0m\u001b[0mself\u001b[0m\u001b[0;34m.\u001b[0m\u001b[0matt\u001b[0m\u001b[0;34m)\u001b[0m\u001b[0;34m\u001b[0m\u001b[0;34m\u001b[0m\u001b[0m\n\u001b[1;32m      5\u001b[0m \u001b[0;34m\u001b[0m\u001b[0m\n\u001b[0;32m----> 6\u001b[0;31m \u001b[0mExample\u001b[0m\u001b[0;34m.\u001b[0m\u001b[0mfoo\u001b[0m\u001b[0;34m(\u001b[0m\u001b[0;34m)\u001b[0m\u001b[0;34m\u001b[0m\u001b[0;34m\u001b[0m\u001b[0m\n\u001b[0m",
            "\u001b[0;31mTypeError\u001b[0m: foo() missing 1 required positional argument: 'self'"
          ]
        }
      ]
    },
    {
      "cell_type": "markdown",
      "metadata": {
        "id": "ShA0fbqGVvE7"
      },
      "source": [
        "The problem in this way is that this kind of change can happen after many codes lines."
      ]
    },
    {
      "cell_type": "code",
      "metadata": {
        "colab": {
          "base_uri": "https://localhost:8080/"
        },
        "id": "EvHk2wLCNFNH",
        "outputId": "79b0d63a-e60e-447f-b1aa-0ab4cfd476e2"
      },
      "source": [
        "class Example:\r\n",
        "  att = \"YOLO\"\r\n",
        "  \r\n",
        "  def foo(self):\r\n",
        "      print(self.att)\r\n",
        "  \r\n",
        "  #code\r\n",
        "  #code\r\n",
        "  #code\r\n",
        "  def wololo(self):\r\n",
        "    print(\"Wololo\")\r\n",
        "  #code\r\n",
        "  #code\r\n",
        "  #code\r\n",
        "  foo = classmethod(foo)\r\n",
        "\r\n",
        "Example.foo()"
      ],
      "execution_count": 6,
      "outputs": [
        {
          "output_type": "stream",
          "text": [
            "YOLO\n"
          ],
          "name": "stdout"
        }
      ]
    },
    {
      "cell_type": "markdown",
      "metadata": {
        "id": "PHjweZwcWoma"
      },
      "source": [
        "So, since there is no limit in witch the behavior change can happen, it makes the code difficult to read since you describe a behavior and many code lines after, you can change it."
      ]
    },
    {
      "cell_type": "markdown",
      "metadata": {
        "id": "7wYOeCXTW_Jk"
      },
      "source": [
        "# The solution: decorators"
      ]
    },
    {
      "cell_type": "code",
      "metadata": {
        "colab": {
          "base_uri": "https://localhost:8080/"
        },
        "id": "sLRD5tvaW-Ri",
        "outputId": "ec8d4791-4f13-4a6f-e4c9-c9322f965087"
      },
      "source": [
        "class Example:\r\n",
        "  att = \"YOLO\"\r\n",
        "  \r\n",
        "  @classmethod\r\n",
        "  def foo(cls):\r\n",
        "      print(cls.att)\r\n",
        " \r\n",
        "Example.foo()"
      ],
      "execution_count": 7,
      "outputs": [
        {
          "output_type": "stream",
          "text": [
            "YOLO\n"
          ],
          "name": "stdout"
        }
      ]
    }
  ]
}