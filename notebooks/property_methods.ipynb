{
  "nbformat": 4,
  "nbformat_minor": 0,
  "metadata": {
    "colab": {
      "name": "property_method.ipynb",
      "provenance": []
    },
    "kernelspec": {
      "name": "python3",
      "display_name": "Python 3"
    }
  },
  "cells": [
    {
      "cell_type": "markdown",
      "metadata": {
        "id": "0GXf25N0npaj"
      },
      "source": [
        "# property\r\n",
        "Built in method that can be used as decorator when an attribute is a propriety of other elements.\r\n",
        "\r\n",
        "The built-in method syntax is:\r\n",
        "```python\r\n",
        "property(fget=None, fset=None, fdel=None, doc=None)\r\n",
        "```\r\n",
        "\r\n",
        "* fget: get method\r\n",
        "* fset: set method\r\n",
        "* fdel: delete method\r\n",
        "* doc: documentation"
      ]
    },
    {
      "cell_type": "code",
      "metadata": {
        "id": "arQ8JvLQq6Do"
      },
      "source": [
        "class Person:\r\n",
        "  def __init__(self, first_name: str, last_name: str):\r\n",
        "    self.first_name = first_name\r\n",
        "    self.last_name  = last_name\r\n",
        "    self.full_name  = ' '.join([first_name, last_name])"
      ],
      "execution_count": 13,
      "outputs": []
    },
    {
      "cell_type": "code",
      "metadata": {
        "colab": {
          "base_uri": "https://localhost:8080/"
        },
        "id": "CJ1P0hEtq8pe",
        "outputId": "4a3b47b9-6b81-4868-ce6a-59234bf8e5eb"
      },
      "source": [
        "p = Person(first_name=\"Juliana\",\r\n",
        "           last_name=\"Guamá\")\r\n",
        "\r\n",
        "print(p.first_name)\r\n",
        "print(p.last_name)\r\n",
        "print(p.full_name)"
      ],
      "execution_count": 14,
      "outputs": [
        {
          "output_type": "stream",
          "text": [
            "Juliana\n",
            "Guamá\n",
            "Juliana Guamá\n"
          ],
          "name": "stdout"
        }
      ]
    },
    {
      "cell_type": "code",
      "metadata": {
        "colab": {
          "base_uri": "https://localhost:8080/"
        },
        "id": "6rioPxEdq94p",
        "outputId": "e15d3378-5a17-4aa9-acac-9e750ddb4663"
      },
      "source": [
        "p.sobrenome = \"Severino\"\r\n",
        "\r\n",
        "print(p.first_name)\r\n",
        "print(p.last_name)\r\n",
        "print(p.full_name)"
      ],
      "execution_count": 8,
      "outputs": [
        {
          "output_type": "stream",
          "text": [
            "Juliana\n",
            "Severino\n",
            "Juliana Guamá\n"
          ],
          "name": "stdout"
        }
      ]
    },
    {
      "cell_type": "markdown",
      "metadata": {
        "id": "6xZ3DpFIrBWX"
      },
      "source": [
        "Since \"full_name\" attribute depend on other attribute, we can use `property` to define its behavior."
      ]
    },
    {
      "cell_type": "code",
      "metadata": {
        "id": "tP6FWLXzuA8b"
      },
      "source": [
        "class Person:\r\n",
        "  def __init__(self, first_name: str, last_name: str):\r\n",
        "    self.first_name = first_name\r\n",
        "    self.last_name  = last_name\r\n",
        "    self.full_name  = ' '.join([first_name, last_name])\r\n",
        "\r\n",
        "  # get method  \r\n",
        "  def get_full_name(self):\r\n",
        "    return ' '.join([self.first_name, self.last_name])\r\n",
        "  \r\n",
        "  # set method\r\n",
        "  def set_full_name(self, value):\r\n",
        "    self._full_name = ' '.join([self.first_name, value])\r\n",
        "  \r\n",
        "  full_name = property(get_full_name, set_full_name)"
      ],
      "execution_count": 28,
      "outputs": []
    },
    {
      "cell_type": "code",
      "metadata": {
        "colab": {
          "base_uri": "https://localhost:8080/"
        },
        "id": "kXkt8FReuU9S",
        "outputId": "5a3e7f02-bb3e-487d-f244-902c530d90a1"
      },
      "source": [
        "p = Person(first_name=\"Juliana\",\r\n",
        "           last_name=\"Guamá\")\r\n",
        "\r\n",
        "print(p.first_name)\r\n",
        "print(p.last_name)\r\n",
        "print(p.full_name)"
      ],
      "execution_count": 29,
      "outputs": [
        {
          "output_type": "stream",
          "text": [
            "Juliana\n",
            "Guamá\n",
            "Juliana Guamá\n"
          ],
          "name": "stdout"
        }
      ]
    },
    {
      "cell_type": "code",
      "metadata": {
        "colab": {
          "base_uri": "https://localhost:8080/"
        },
        "id": "UKG06GXyuWdX",
        "outputId": "e4e5d148-f168-443c-89f9-f488ad1b18f3"
      },
      "source": [
        "p.last_name = \"Severino\"\r\n",
        "\r\n",
        "print(p.first_name)\r\n",
        "print(p.last_name)\r\n",
        "print(p.full_name)"
      ],
      "execution_count": 30,
      "outputs": [
        {
          "output_type": "stream",
          "text": [
            "Juliana\n",
            "Severino\n",
            "Juliana Severino\n"
          ],
          "name": "stdout"
        }
      ]
    },
    {
      "cell_type": "markdown",
      "metadata": {
        "id": "SUz8fVK8uXjq"
      },
      "source": [
        "# Decorator property syntax\r\n"
      ]
    },
    {
      "cell_type": "code",
      "metadata": {
        "id": "ofmQuaTMnmiP"
      },
      "source": [
        "class Person:\r\n",
        "  def __init__(self, first_name: str, last_name: str):\r\n",
        "    self.first_name = first_name\r\n",
        "    self.last_name  = last_name\r\n",
        "    self.full_name  = ' '.join([first_name, last_name])\r\n",
        "\r\n",
        "  # get method\r\n",
        "  @property\r\n",
        "  def full_name(self):\r\n",
        "    return ' '.join([self.first_name, self.last_name])\r\n",
        "  \r\n",
        "  # set method\r\n",
        "  @full_name.setter\r\n",
        "  def full_name(self, value):\r\n",
        "    self._full_name = ' '.join([self.first_name, value])"
      ],
      "execution_count": 23,
      "outputs": []
    },
    {
      "cell_type": "code",
      "metadata": {
        "colab": {
          "base_uri": "https://localhost:8080/"
        },
        "id": "FhJOpqYZqtbt",
        "outputId": "d392f338-efa1-4b9b-8c1d-4591161fb577"
      },
      "source": [
        "p = Person(first_name=\"Juliana\",\r\n",
        "           last_name=\"Guamá\")\r\n",
        "\r\n",
        "print(p.first_name)\r\n",
        "print(p.last_name)\r\n",
        "print(p.full_name)"
      ],
      "execution_count": 24,
      "outputs": [
        {
          "output_type": "stream",
          "text": [
            "Juliana\n",
            "Guamá\n",
            "Juliana Guamá\n"
          ],
          "name": "stdout"
        }
      ]
    },
    {
      "cell_type": "code",
      "metadata": {
        "colab": {
          "base_uri": "https://localhost:8080/"
        },
        "id": "WsS3648dqywY",
        "outputId": "9c2ae182-330c-4035-b10b-1facf05b9f70"
      },
      "source": [
        "p.last_name = \"Severino\"\r\n",
        "\r\n",
        "print(p.first_name)\r\n",
        "print(p.last_name)\r\n",
        "print(p.full_name)"
      ],
      "execution_count": 26,
      "outputs": [
        {
          "output_type": "stream",
          "text": [
            "Juliana\n",
            "Severino\n",
            "Juliana Severino\n"
          ],
          "name": "stdout"
        }
      ]
    },
    {
      "source": [
        "## OBS\n",
        "While using `property` note that `get` and `set` are mandatory."
      ],
      "cell_type": "markdown",
      "metadata": {}
    }
  ]
}